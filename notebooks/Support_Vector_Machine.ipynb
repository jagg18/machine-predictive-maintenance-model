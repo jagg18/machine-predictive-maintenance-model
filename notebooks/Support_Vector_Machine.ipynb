{
 "cells": [
  {
   "cell_type": "markdown",
   "id": "4abd4186-2947-4dab-bf15-519b0436d73b",
   "metadata": {},
   "source": [
    "# COMP-2704: Final Project\n",
    "# Decision Tree\n",
    "## Author: Jerome Geronimo (#0397026)"
   ]
  },
  {
   "cell_type": "code",
   "execution_count": 1,
   "id": "7689212a-db8d-458a-800c-72db4585015b",
   "metadata": {},
   "outputs": [],
   "source": [
    "import pandas as pd\n",
    "import matplotlib.pyplot as plt\n",
    "import utils9"
   ]
  },
  {
   "cell_type": "markdown",
   "id": "76279457-81d6-4977-a55b-8d068461315e",
   "metadata": {},
   "source": [
    "## Read the dataset into a Pandas dataframe"
   ]
  },
  {
   "cell_type": "code",
   "execution_count": 2,
   "id": "65a56118-f9fb-4294-9711-3de9bae593ac",
   "metadata": {},
   "outputs": [
    {
     "data": {
      "text/html": [
       "<div>\n",
       "<style scoped>\n",
       "    .dataframe tbody tr th:only-of-type {\n",
       "        vertical-align: middle;\n",
       "    }\n",
       "\n",
       "    .dataframe tbody tr th {\n",
       "        vertical-align: top;\n",
       "    }\n",
       "\n",
       "    .dataframe thead th {\n",
       "        text-align: right;\n",
       "    }\n",
       "</style>\n",
       "<table border=\"1\" class=\"dataframe\">\n",
       "  <thead>\n",
       "    <tr style=\"text-align: right;\">\n",
       "      <th></th>\n",
       "      <th>Product ID</th>\n",
       "      <th>Type</th>\n",
       "      <th>Air temperature [K]</th>\n",
       "      <th>Process temperature [K]</th>\n",
       "      <th>Rotational speed [rpm]</th>\n",
       "      <th>Torque [Nm]</th>\n",
       "      <th>Tool wear [min]</th>\n",
       "      <th>Failure Type</th>\n",
       "    </tr>\n",
       "  </thead>\n",
       "  <tbody>\n",
       "    <tr>\n",
       "      <th>0</th>\n",
       "      <td>M14860</td>\n",
       "      <td>M</td>\n",
       "      <td>-0.952389</td>\n",
       "      <td>-0.947360</td>\n",
       "      <td>0.068185</td>\n",
       "      <td>0.282200</td>\n",
       "      <td>-1.695984</td>\n",
       "      <td>No Failure</td>\n",
       "    </tr>\n",
       "    <tr>\n",
       "      <th>1</th>\n",
       "      <td>L47181</td>\n",
       "      <td>L</td>\n",
       "      <td>-0.902393</td>\n",
       "      <td>-0.879959</td>\n",
       "      <td>-0.729472</td>\n",
       "      <td>0.633308</td>\n",
       "      <td>-1.648852</td>\n",
       "      <td>No Failure</td>\n",
       "    </tr>\n",
       "    <tr>\n",
       "      <th>2</th>\n",
       "      <td>L47182</td>\n",
       "      <td>L</td>\n",
       "      <td>-0.952389</td>\n",
       "      <td>-1.014761</td>\n",
       "      <td>-0.227450</td>\n",
       "      <td>0.944290</td>\n",
       "      <td>-1.617430</td>\n",
       "      <td>No Failure</td>\n",
       "    </tr>\n",
       "    <tr>\n",
       "      <th>3</th>\n",
       "      <td>L47183</td>\n",
       "      <td>L</td>\n",
       "      <td>-0.902393</td>\n",
       "      <td>-0.947360</td>\n",
       "      <td>-0.590021</td>\n",
       "      <td>-0.048845</td>\n",
       "      <td>-1.586009</td>\n",
       "      <td>No Failure</td>\n",
       "    </tr>\n",
       "    <tr>\n",
       "      <th>4</th>\n",
       "      <td>L47184</td>\n",
       "      <td>L</td>\n",
       "      <td>-0.902393</td>\n",
       "      <td>-0.879959</td>\n",
       "      <td>-0.729472</td>\n",
       "      <td>0.001313</td>\n",
       "      <td>-1.554588</td>\n",
       "      <td>No Failure</td>\n",
       "    </tr>\n",
       "    <tr>\n",
       "      <th>...</th>\n",
       "      <td>...</td>\n",
       "      <td>...</td>\n",
       "      <td>...</td>\n",
       "      <td>...</td>\n",
       "      <td>...</td>\n",
       "      <td>...</td>\n",
       "      <td>...</td>\n",
       "      <td>...</td>\n",
       "    </tr>\n",
       "    <tr>\n",
       "      <th>57907</th>\n",
       "      <td>M17801</td>\n",
       "      <td>M</td>\n",
       "      <td>0.347507</td>\n",
       "      <td>-0.273351</td>\n",
       "      <td>2.550403</td>\n",
       "      <td>-2.025083</td>\n",
       "      <td>1.493285</td>\n",
       "      <td>Tool Wear Failure</td>\n",
       "    </tr>\n",
       "    <tr>\n",
       "      <th>57908</th>\n",
       "      <td>L56354</td>\n",
       "      <td>L</td>\n",
       "      <td>-1.102378</td>\n",
       "      <td>-0.745157</td>\n",
       "      <td>1.853151</td>\n",
       "      <td>-1.443247</td>\n",
       "      <td>1.446152</td>\n",
       "      <td>Tool Wear Failure</td>\n",
       "    </tr>\n",
       "    <tr>\n",
       "      <th>57909</th>\n",
       "      <td>M22971</td>\n",
       "      <td>M</td>\n",
       "      <td>0.197519</td>\n",
       "      <td>1.209468</td>\n",
       "      <td>0.079341</td>\n",
       "      <td>-0.690872</td>\n",
       "      <td>1.587549</td>\n",
       "      <td>Tool Wear Failure</td>\n",
       "    </tr>\n",
       "    <tr>\n",
       "      <th>57910</th>\n",
       "      <td>L53436</td>\n",
       "      <td>L</td>\n",
       "      <td>0.497496</td>\n",
       "      <td>0.400658</td>\n",
       "      <td>-0.255340</td>\n",
       "      <td>-0.219383</td>\n",
       "      <td>1.540417</td>\n",
       "      <td>Tool Wear Failure</td>\n",
       "    </tr>\n",
       "    <tr>\n",
       "      <th>57911</th>\n",
       "      <td>M22709</td>\n",
       "      <td>M</td>\n",
       "      <td>0.147523</td>\n",
       "      <td>1.142068</td>\n",
       "      <td>-0.919124</td>\n",
       "      <td>0.793815</td>\n",
       "      <td>1.791787</td>\n",
       "      <td>Tool Wear Failure</td>\n",
       "    </tr>\n",
       "  </tbody>\n",
       "</table>\n",
       "<p>57912 rows × 8 columns</p>\n",
       "</div>"
      ],
      "text/plain": [
       "      Product ID Type  Air temperature [K]  Process temperature [K]  \\\n",
       "0         M14860    M            -0.952389                -0.947360   \n",
       "1         L47181    L            -0.902393                -0.879959   \n",
       "2         L47182    L            -0.952389                -1.014761   \n",
       "3         L47183    L            -0.902393                -0.947360   \n",
       "4         L47184    L            -0.902393                -0.879959   \n",
       "...          ...  ...                  ...                      ...   \n",
       "57907     M17801    M             0.347507                -0.273351   \n",
       "57908     L56354    L            -1.102378                -0.745157   \n",
       "57909     M22971    M             0.197519                 1.209468   \n",
       "57910     L53436    L             0.497496                 0.400658   \n",
       "57911     M22709    M             0.147523                 1.142068   \n",
       "\n",
       "       Rotational speed [rpm]  Torque [Nm]  Tool wear [min]       Failure Type  \n",
       "0                    0.068185     0.282200        -1.695984         No Failure  \n",
       "1                   -0.729472     0.633308        -1.648852         No Failure  \n",
       "2                   -0.227450     0.944290        -1.617430         No Failure  \n",
       "3                   -0.590021    -0.048845        -1.586009         No Failure  \n",
       "4                   -0.729472     0.001313        -1.554588         No Failure  \n",
       "...                       ...          ...              ...                ...  \n",
       "57907                2.550403    -2.025083         1.493285  Tool Wear Failure  \n",
       "57908                1.853151    -1.443247         1.446152  Tool Wear Failure  \n",
       "57909                0.079341    -0.690872         1.587549  Tool Wear Failure  \n",
       "57910               -0.255340    -0.219383         1.540417  Tool Wear Failure  \n",
       "57911               -0.919124     0.793815         1.791787  Tool Wear Failure  \n",
       "\n",
       "[57912 rows x 8 columns]"
      ]
     },
     "execution_count": 2,
     "metadata": {},
     "output_type": "execute_result"
    }
   ],
   "source": [
    "# Read the cleaned and resampled dataset to a dataframe\n",
    "df = pd.read_csv('resampled_data.csv', index_col=0)\n",
    "df"
   ]
  },
  {
   "cell_type": "markdown",
   "id": "988f00fd-6174-432e-8a7d-d25488a47428",
   "metadata": {},
   "source": [
    "## Removing unnecessary feature/s\n",
    "\n",
    "Product ID is unique for all entries and does not really tell us anything about the product conditions. This information will only confuse our model and cause it to overfit by memorizing the Product IDs."
   ]
  },
  {
   "cell_type": "code",
   "execution_count": 3,
   "id": "bd6fe25d-804d-465a-ba1d-3a238f81d300",
   "metadata": {},
   "outputs": [
    {
     "data": {
      "text/html": [
       "<div>\n",
       "<style scoped>\n",
       "    .dataframe tbody tr th:only-of-type {\n",
       "        vertical-align: middle;\n",
       "    }\n",
       "\n",
       "    .dataframe tbody tr th {\n",
       "        vertical-align: top;\n",
       "    }\n",
       "\n",
       "    .dataframe thead th {\n",
       "        text-align: right;\n",
       "    }\n",
       "</style>\n",
       "<table border=\"1\" class=\"dataframe\">\n",
       "  <thead>\n",
       "    <tr style=\"text-align: right;\">\n",
       "      <th></th>\n",
       "      <th>Type</th>\n",
       "      <th>Air temperature [K]</th>\n",
       "      <th>Process temperature [K]</th>\n",
       "      <th>Rotational speed [rpm]</th>\n",
       "      <th>Torque [Nm]</th>\n",
       "      <th>Tool wear [min]</th>\n",
       "      <th>Failure Type</th>\n",
       "    </tr>\n",
       "  </thead>\n",
       "  <tbody>\n",
       "    <tr>\n",
       "      <th>0</th>\n",
       "      <td>M</td>\n",
       "      <td>-0.952389</td>\n",
       "      <td>-0.947360</td>\n",
       "      <td>0.068185</td>\n",
       "      <td>0.282200</td>\n",
       "      <td>-1.695984</td>\n",
       "      <td>No Failure</td>\n",
       "    </tr>\n",
       "    <tr>\n",
       "      <th>1</th>\n",
       "      <td>L</td>\n",
       "      <td>-0.902393</td>\n",
       "      <td>-0.879959</td>\n",
       "      <td>-0.729472</td>\n",
       "      <td>0.633308</td>\n",
       "      <td>-1.648852</td>\n",
       "      <td>No Failure</td>\n",
       "    </tr>\n",
       "    <tr>\n",
       "      <th>2</th>\n",
       "      <td>L</td>\n",
       "      <td>-0.952389</td>\n",
       "      <td>-1.014761</td>\n",
       "      <td>-0.227450</td>\n",
       "      <td>0.944290</td>\n",
       "      <td>-1.617430</td>\n",
       "      <td>No Failure</td>\n",
       "    </tr>\n",
       "    <tr>\n",
       "      <th>3</th>\n",
       "      <td>L</td>\n",
       "      <td>-0.902393</td>\n",
       "      <td>-0.947360</td>\n",
       "      <td>-0.590021</td>\n",
       "      <td>-0.048845</td>\n",
       "      <td>-1.586009</td>\n",
       "      <td>No Failure</td>\n",
       "    </tr>\n",
       "    <tr>\n",
       "      <th>4</th>\n",
       "      <td>L</td>\n",
       "      <td>-0.902393</td>\n",
       "      <td>-0.879959</td>\n",
       "      <td>-0.729472</td>\n",
       "      <td>0.001313</td>\n",
       "      <td>-1.554588</td>\n",
       "      <td>No Failure</td>\n",
       "    </tr>\n",
       "    <tr>\n",
       "      <th>...</th>\n",
       "      <td>...</td>\n",
       "      <td>...</td>\n",
       "      <td>...</td>\n",
       "      <td>...</td>\n",
       "      <td>...</td>\n",
       "      <td>...</td>\n",
       "      <td>...</td>\n",
       "    </tr>\n",
       "    <tr>\n",
       "      <th>57907</th>\n",
       "      <td>M</td>\n",
       "      <td>0.347507</td>\n",
       "      <td>-0.273351</td>\n",
       "      <td>2.550403</td>\n",
       "      <td>-2.025083</td>\n",
       "      <td>1.493285</td>\n",
       "      <td>Tool Wear Failure</td>\n",
       "    </tr>\n",
       "    <tr>\n",
       "      <th>57908</th>\n",
       "      <td>L</td>\n",
       "      <td>-1.102378</td>\n",
       "      <td>-0.745157</td>\n",
       "      <td>1.853151</td>\n",
       "      <td>-1.443247</td>\n",
       "      <td>1.446152</td>\n",
       "      <td>Tool Wear Failure</td>\n",
       "    </tr>\n",
       "    <tr>\n",
       "      <th>57909</th>\n",
       "      <td>M</td>\n",
       "      <td>0.197519</td>\n",
       "      <td>1.209468</td>\n",
       "      <td>0.079341</td>\n",
       "      <td>-0.690872</td>\n",
       "      <td>1.587549</td>\n",
       "      <td>Tool Wear Failure</td>\n",
       "    </tr>\n",
       "    <tr>\n",
       "      <th>57910</th>\n",
       "      <td>L</td>\n",
       "      <td>0.497496</td>\n",
       "      <td>0.400658</td>\n",
       "      <td>-0.255340</td>\n",
       "      <td>-0.219383</td>\n",
       "      <td>1.540417</td>\n",
       "      <td>Tool Wear Failure</td>\n",
       "    </tr>\n",
       "    <tr>\n",
       "      <th>57911</th>\n",
       "      <td>M</td>\n",
       "      <td>0.147523</td>\n",
       "      <td>1.142068</td>\n",
       "      <td>-0.919124</td>\n",
       "      <td>0.793815</td>\n",
       "      <td>1.791787</td>\n",
       "      <td>Tool Wear Failure</td>\n",
       "    </tr>\n",
       "  </tbody>\n",
       "</table>\n",
       "<p>57912 rows × 7 columns</p>\n",
       "</div>"
      ],
      "text/plain": [
       "      Type  Air temperature [K]  Process temperature [K]  \\\n",
       "0        M            -0.952389                -0.947360   \n",
       "1        L            -0.902393                -0.879959   \n",
       "2        L            -0.952389                -1.014761   \n",
       "3        L            -0.902393                -0.947360   \n",
       "4        L            -0.902393                -0.879959   \n",
       "...    ...                  ...                      ...   \n",
       "57907    M             0.347507                -0.273351   \n",
       "57908    L            -1.102378                -0.745157   \n",
       "57909    M             0.197519                 1.209468   \n",
       "57910    L             0.497496                 0.400658   \n",
       "57911    M             0.147523                 1.142068   \n",
       "\n",
       "       Rotational speed [rpm]  Torque [Nm]  Tool wear [min]       Failure Type  \n",
       "0                    0.068185     0.282200        -1.695984         No Failure  \n",
       "1                   -0.729472     0.633308        -1.648852         No Failure  \n",
       "2                   -0.227450     0.944290        -1.617430         No Failure  \n",
       "3                   -0.590021    -0.048845        -1.586009         No Failure  \n",
       "4                   -0.729472     0.001313        -1.554588         No Failure  \n",
       "...                       ...          ...              ...                ...  \n",
       "57907                2.550403    -2.025083         1.493285  Tool Wear Failure  \n",
       "57908                1.853151    -1.443247         1.446152  Tool Wear Failure  \n",
       "57909                0.079341    -0.690872         1.587549  Tool Wear Failure  \n",
       "57910               -0.255340    -0.219383         1.540417  Tool Wear Failure  \n",
       "57911               -0.919124     0.793815         1.791787  Tool Wear Failure  \n",
       "\n",
       "[57912 rows x 7 columns]"
      ]
     },
     "execution_count": 3,
     "metadata": {},
     "output_type": "execute_result"
    }
   ],
   "source": [
    "# Drop the Product ID column\n",
    "df.drop(['Product ID'], axis=1, inplace=True)\n",
    "df"
   ]
  },
  {
   "cell_type": "markdown",
   "id": "ecef1849-ea88-40bb-8e3c-0862ca14d463",
   "metadata": {},
   "source": [
    "## Some more data cleaning\n",
    "Since SVM classifiers cannot handle categorical features, I need to one-hot encode the Type column.\n",
    "\n",
    "Using Pandas get_dummies function, I've added new Type columns to indicate whether the part is of Low, Medium or High quality."
   ]
  },
  {
   "cell_type": "code",
   "execution_count": 4,
   "id": "7f56d012-2461-431f-8703-33d16c2b53f9",
   "metadata": {},
   "outputs": [
    {
     "data": {
      "text/html": [
       "<div>\n",
       "<style scoped>\n",
       "    .dataframe tbody tr th:only-of-type {\n",
       "        vertical-align: middle;\n",
       "    }\n",
       "\n",
       "    .dataframe tbody tr th {\n",
       "        vertical-align: top;\n",
       "    }\n",
       "\n",
       "    .dataframe thead th {\n",
       "        text-align: right;\n",
       "    }\n",
       "</style>\n",
       "<table border=\"1\" class=\"dataframe\">\n",
       "  <thead>\n",
       "    <tr style=\"text-align: right;\">\n",
       "      <th></th>\n",
       "      <th>Air temperature [K]</th>\n",
       "      <th>Process temperature [K]</th>\n",
       "      <th>Rotational speed [rpm]</th>\n",
       "      <th>Torque [Nm]</th>\n",
       "      <th>Tool wear [min]</th>\n",
       "      <th>Failure Type</th>\n",
       "      <th>Type_H</th>\n",
       "      <th>Type_L</th>\n",
       "      <th>Type_M</th>\n",
       "    </tr>\n",
       "  </thead>\n",
       "  <tbody>\n",
       "    <tr>\n",
       "      <th>0</th>\n",
       "      <td>-0.952389</td>\n",
       "      <td>-0.947360</td>\n",
       "      <td>0.068185</td>\n",
       "      <td>0.282200</td>\n",
       "      <td>-1.695984</td>\n",
       "      <td>No Failure</td>\n",
       "      <td>0</td>\n",
       "      <td>0</td>\n",
       "      <td>1</td>\n",
       "    </tr>\n",
       "    <tr>\n",
       "      <th>1</th>\n",
       "      <td>-0.902393</td>\n",
       "      <td>-0.879959</td>\n",
       "      <td>-0.729472</td>\n",
       "      <td>0.633308</td>\n",
       "      <td>-1.648852</td>\n",
       "      <td>No Failure</td>\n",
       "      <td>0</td>\n",
       "      <td>1</td>\n",
       "      <td>0</td>\n",
       "    </tr>\n",
       "    <tr>\n",
       "      <th>2</th>\n",
       "      <td>-0.952389</td>\n",
       "      <td>-1.014761</td>\n",
       "      <td>-0.227450</td>\n",
       "      <td>0.944290</td>\n",
       "      <td>-1.617430</td>\n",
       "      <td>No Failure</td>\n",
       "      <td>0</td>\n",
       "      <td>1</td>\n",
       "      <td>0</td>\n",
       "    </tr>\n",
       "    <tr>\n",
       "      <th>3</th>\n",
       "      <td>-0.902393</td>\n",
       "      <td>-0.947360</td>\n",
       "      <td>-0.590021</td>\n",
       "      <td>-0.048845</td>\n",
       "      <td>-1.586009</td>\n",
       "      <td>No Failure</td>\n",
       "      <td>0</td>\n",
       "      <td>1</td>\n",
       "      <td>0</td>\n",
       "    </tr>\n",
       "    <tr>\n",
       "      <th>4</th>\n",
       "      <td>-0.902393</td>\n",
       "      <td>-0.879959</td>\n",
       "      <td>-0.729472</td>\n",
       "      <td>0.001313</td>\n",
       "      <td>-1.554588</td>\n",
       "      <td>No Failure</td>\n",
       "      <td>0</td>\n",
       "      <td>1</td>\n",
       "      <td>0</td>\n",
       "    </tr>\n",
       "    <tr>\n",
       "      <th>...</th>\n",
       "      <td>...</td>\n",
       "      <td>...</td>\n",
       "      <td>...</td>\n",
       "      <td>...</td>\n",
       "      <td>...</td>\n",
       "      <td>...</td>\n",
       "      <td>...</td>\n",
       "      <td>...</td>\n",
       "      <td>...</td>\n",
       "    </tr>\n",
       "    <tr>\n",
       "      <th>57907</th>\n",
       "      <td>0.347507</td>\n",
       "      <td>-0.273351</td>\n",
       "      <td>2.550403</td>\n",
       "      <td>-2.025083</td>\n",
       "      <td>1.493285</td>\n",
       "      <td>Tool Wear Failure</td>\n",
       "      <td>0</td>\n",
       "      <td>0</td>\n",
       "      <td>1</td>\n",
       "    </tr>\n",
       "    <tr>\n",
       "      <th>57908</th>\n",
       "      <td>-1.102378</td>\n",
       "      <td>-0.745157</td>\n",
       "      <td>1.853151</td>\n",
       "      <td>-1.443247</td>\n",
       "      <td>1.446152</td>\n",
       "      <td>Tool Wear Failure</td>\n",
       "      <td>0</td>\n",
       "      <td>1</td>\n",
       "      <td>0</td>\n",
       "    </tr>\n",
       "    <tr>\n",
       "      <th>57909</th>\n",
       "      <td>0.197519</td>\n",
       "      <td>1.209468</td>\n",
       "      <td>0.079341</td>\n",
       "      <td>-0.690872</td>\n",
       "      <td>1.587549</td>\n",
       "      <td>Tool Wear Failure</td>\n",
       "      <td>0</td>\n",
       "      <td>0</td>\n",
       "      <td>1</td>\n",
       "    </tr>\n",
       "    <tr>\n",
       "      <th>57910</th>\n",
       "      <td>0.497496</td>\n",
       "      <td>0.400658</td>\n",
       "      <td>-0.255340</td>\n",
       "      <td>-0.219383</td>\n",
       "      <td>1.540417</td>\n",
       "      <td>Tool Wear Failure</td>\n",
       "      <td>0</td>\n",
       "      <td>1</td>\n",
       "      <td>0</td>\n",
       "    </tr>\n",
       "    <tr>\n",
       "      <th>57911</th>\n",
       "      <td>0.147523</td>\n",
       "      <td>1.142068</td>\n",
       "      <td>-0.919124</td>\n",
       "      <td>0.793815</td>\n",
       "      <td>1.791787</td>\n",
       "      <td>Tool Wear Failure</td>\n",
       "      <td>0</td>\n",
       "      <td>0</td>\n",
       "      <td>1</td>\n",
       "    </tr>\n",
       "  </tbody>\n",
       "</table>\n",
       "<p>57912 rows × 9 columns</p>\n",
       "</div>"
      ],
      "text/plain": [
       "       Air temperature [K]  Process temperature [K]  Rotational speed [rpm]  \\\n",
       "0                -0.952389                -0.947360                0.068185   \n",
       "1                -0.902393                -0.879959               -0.729472   \n",
       "2                -0.952389                -1.014761               -0.227450   \n",
       "3                -0.902393                -0.947360               -0.590021   \n",
       "4                -0.902393                -0.879959               -0.729472   \n",
       "...                    ...                      ...                     ...   \n",
       "57907             0.347507                -0.273351                2.550403   \n",
       "57908            -1.102378                -0.745157                1.853151   \n",
       "57909             0.197519                 1.209468                0.079341   \n",
       "57910             0.497496                 0.400658               -0.255340   \n",
       "57911             0.147523                 1.142068               -0.919124   \n",
       "\n",
       "       Torque [Nm]  Tool wear [min]       Failure Type  Type_H  Type_L  Type_M  \n",
       "0         0.282200        -1.695984         No Failure       0       0       1  \n",
       "1         0.633308        -1.648852         No Failure       0       1       0  \n",
       "2         0.944290        -1.617430         No Failure       0       1       0  \n",
       "3        -0.048845        -1.586009         No Failure       0       1       0  \n",
       "4         0.001313        -1.554588         No Failure       0       1       0  \n",
       "...            ...              ...                ...     ...     ...     ...  \n",
       "57907    -2.025083         1.493285  Tool Wear Failure       0       0       1  \n",
       "57908    -1.443247         1.446152  Tool Wear Failure       0       1       0  \n",
       "57909    -0.690872         1.587549  Tool Wear Failure       0       0       1  \n",
       "57910    -0.219383         1.540417  Tool Wear Failure       0       1       0  \n",
       "57911     0.793815         1.791787  Tool Wear Failure       0       0       1  \n",
       "\n",
       "[57912 rows x 9 columns]"
      ]
     },
     "execution_count": 4,
     "metadata": {},
     "output_type": "execute_result"
    }
   ],
   "source": [
    "# Convert categorical variable into indicator variables\n",
    "type_columns = pd.get_dummies(df['Type'], prefix='Type', dtype=int)\n",
    "# Create a new dataframe, appending the new type columns\n",
    "df_one_hot = pd.concat([df, type_columns], axis=1)\n",
    "# Drop the type column\n",
    "df_one_hot = df_one_hot.drop('Type', axis=1)\n",
    "# df_one_hot = df\n",
    "df_one_hot"
   ]
  },
  {
   "cell_type": "markdown",
   "id": "2d2a41ed-d303-4f14-a429-386e6e87cb36",
   "metadata": {},
   "source": [
    "## Preparing the training data\n",
    "\n",
    "For model training using scikit-learn, I have to separate the labels from the features.\n",
    "\n",
    "The code below separates the features from the labels using Pandas."
   ]
  },
  {
   "cell_type": "code",
   "execution_count": 5,
   "id": "590a2a8b-9bc7-4d92-9491-332be6bbdd6f",
   "metadata": {},
   "outputs": [
    {
     "data": {
      "text/html": [
       "<div>\n",
       "<style scoped>\n",
       "    .dataframe tbody tr th:only-of-type {\n",
       "        vertical-align: middle;\n",
       "    }\n",
       "\n",
       "    .dataframe tbody tr th {\n",
       "        vertical-align: top;\n",
       "    }\n",
       "\n",
       "    .dataframe thead th {\n",
       "        text-align: right;\n",
       "    }\n",
       "</style>\n",
       "<table border=\"1\" class=\"dataframe\">\n",
       "  <thead>\n",
       "    <tr style=\"text-align: right;\">\n",
       "      <th></th>\n",
       "      <th>Air temperature [K]</th>\n",
       "      <th>Process temperature [K]</th>\n",
       "      <th>Rotational speed [rpm]</th>\n",
       "      <th>Torque [Nm]</th>\n",
       "      <th>Tool wear [min]</th>\n",
       "      <th>Type_H</th>\n",
       "      <th>Type_L</th>\n",
       "      <th>Type_M</th>\n",
       "    </tr>\n",
       "  </thead>\n",
       "  <tbody>\n",
       "    <tr>\n",
       "      <th>0</th>\n",
       "      <td>-0.952389</td>\n",
       "      <td>-0.947360</td>\n",
       "      <td>0.068185</td>\n",
       "      <td>0.282200</td>\n",
       "      <td>-1.695984</td>\n",
       "      <td>0</td>\n",
       "      <td>0</td>\n",
       "      <td>1</td>\n",
       "    </tr>\n",
       "    <tr>\n",
       "      <th>1</th>\n",
       "      <td>-0.902393</td>\n",
       "      <td>-0.879959</td>\n",
       "      <td>-0.729472</td>\n",
       "      <td>0.633308</td>\n",
       "      <td>-1.648852</td>\n",
       "      <td>0</td>\n",
       "      <td>1</td>\n",
       "      <td>0</td>\n",
       "    </tr>\n",
       "    <tr>\n",
       "      <th>2</th>\n",
       "      <td>-0.952389</td>\n",
       "      <td>-1.014761</td>\n",
       "      <td>-0.227450</td>\n",
       "      <td>0.944290</td>\n",
       "      <td>-1.617430</td>\n",
       "      <td>0</td>\n",
       "      <td>1</td>\n",
       "      <td>0</td>\n",
       "    </tr>\n",
       "    <tr>\n",
       "      <th>3</th>\n",
       "      <td>-0.902393</td>\n",
       "      <td>-0.947360</td>\n",
       "      <td>-0.590021</td>\n",
       "      <td>-0.048845</td>\n",
       "      <td>-1.586009</td>\n",
       "      <td>0</td>\n",
       "      <td>1</td>\n",
       "      <td>0</td>\n",
       "    </tr>\n",
       "    <tr>\n",
       "      <th>4</th>\n",
       "      <td>-0.902393</td>\n",
       "      <td>-0.879959</td>\n",
       "      <td>-0.729472</td>\n",
       "      <td>0.001313</td>\n",
       "      <td>-1.554588</td>\n",
       "      <td>0</td>\n",
       "      <td>1</td>\n",
       "      <td>0</td>\n",
       "    </tr>\n",
       "  </tbody>\n",
       "</table>\n",
       "</div>"
      ],
      "text/plain": [
       "   Air temperature [K]  Process temperature [K]  Rotational speed [rpm]  \\\n",
       "0            -0.952389                -0.947360                0.068185   \n",
       "1            -0.902393                -0.879959               -0.729472   \n",
       "2            -0.952389                -1.014761               -0.227450   \n",
       "3            -0.902393                -0.947360               -0.590021   \n",
       "4            -0.902393                -0.879959               -0.729472   \n",
       "\n",
       "   Torque [Nm]  Tool wear [min]  Type_H  Type_L  Type_M  \n",
       "0     0.282200        -1.695984       0       0       1  \n",
       "1     0.633308        -1.648852       0       1       0  \n",
       "2     0.944290        -1.617430       0       1       0  \n",
       "3    -0.048845        -1.586009       0       1       0  \n",
       "4     0.001313        -1.554588       0       1       0  "
      ]
     },
     "metadata": {},
     "output_type": "display_data"
    },
    {
     "data": {
      "text/plain": [
       "0    No Failure\n",
       "1    No Failure\n",
       "2    No Failure\n",
       "3    No Failure\n",
       "4    No Failure\n",
       "Name: Failure Type, dtype: object"
      ]
     },
     "metadata": {},
     "output_type": "display_data"
    }
   ],
   "source": [
    "X = df_one_hot.drop('Failure Type', axis=1)\n",
    "y = df_one_hot['Failure Type']\n",
    "display(X.head(), y.head())"
   ]
  },
  {
   "cell_type": "markdown",
   "id": "84b0d597-c5f8-4ae2-814d-986e944a78ef",
   "metadata": {},
   "source": [
    "## Split the data into training, validation, and testing sets\n",
    "\n",
    "Since we have 57912 rows in our dataset, it is large enough for an 80-10-10 split.\n",
    "Training our model using 46,000 data points seems reasonable and shouldn't cause any overfit or underfit."
   ]
  },
  {
   "cell_type": "code",
   "execution_count": 6,
   "id": "629f7536-28a6-49fb-8bf7-3d1a47fca5d1",
   "metadata": {},
   "outputs": [
    {
     "name": "stdout",
     "output_type": "stream",
     "text": [
      "There are 46328 training data points.\n",
      "There are 5792 validation data points.\n",
      "There are 5792 testing data points.\n"
     ]
    }
   ],
   "source": [
    "from sklearn.model_selection import train_test_split\n",
    "\n",
    "# Allocate 10 percent of my data points to my test dataset\n",
    "X_train_val, X_test, y_train_val, y_test = train_test_split(X, y, test_size=0.1, random_state=42)\n",
    "# Allocate another 10 percent of my data to my validation dataset\n",
    "# The rest of my data (80%) will be my training dataset\n",
    "X_train, X_val, y_train, y_val = train_test_split(X_train_val, y_train_val, test_size=1/9, random_state=42)\n",
    "\n",
    "print(f'There are {len(X_train)} training data points.')\n",
    "print(f'There are {len(X_val)} validation data points.')\n",
    "print(f'There are {len(X_test)} testing data points.')"
   ]
  },
  {
   "cell_type": "markdown",
   "id": "c72abeef-d51a-4e67-9ce5-1340911d7d94",
   "metadata": {},
   "source": [
    "## Training our SVM classifiers\n",
    "\n",
    "For this first model, we want to try training different SVM classifiers and look at their accuracies."
   ]
  },
  {
   "cell_type": "markdown",
   "id": "3a63bfe1-73a9-4bdb-9d48-fac2f416d7a7",
   "metadata": {},
   "source": [
    "#### Training a Linear SVM"
   ]
  },
  {
   "cell_type": "code",
   "execution_count": 7,
   "id": "17e7bd5e-4e82-4064-9570-8bf971ad3ac4",
   "metadata": {},
   "outputs": [
    {
     "name": "stdout",
     "output_type": "stream",
     "text": [
      "Training Accuracy: 0.875\n",
      "Validation Accuracy: 0.8743093922651933\n"
     ]
    }
   ],
   "source": [
    "from sklearn.svm import SVC\n",
    "\n",
    "svm_linear = SVC(kernel='linear', random_state=42)\n",
    "svm_linear.fit(X_train, y_train)\n",
    "print(\"Training Accuracy:\", svm_linear.score(X_train, y_train))\n",
    "print(\"Validation Accuracy:\", svm_linear.score(X_val, y_val))"
   ]
  },
  {
   "cell_type": "code",
   "execution_count": 8,
   "id": "ba7b367b-8722-43d8-a926-3a37ebbc1f78",
   "metadata": {},
   "outputs": [
    {
     "name": "stdout",
     "output_type": "stream",
     "text": [
      "C = 0.01\n",
      "Training Accuracy: 0.8394275600069073\n",
      "Validation Accuracy: 0.8392610497237569\n",
      "C = 10\n",
      "Training Accuracy: 0.8790796062856157\n",
      "Validation Accuracy: 0.8784530386740331\n",
      "C = 100\n",
      "Training Accuracy: 0.8891599032982214\n",
      "Validation Accuracy: 0.8893301104972375\n"
     ]
    }
   ],
   "source": [
    "# C = 0.01\n",
    "svm_c_001 = SVC(kernel='linear', C=0.01, random_state=42)\n",
    "svm_c_001.fit(X_train, y_train)\n",
    "print(\"C = 0.01\")\n",
    "print(\"Training Accuracy:\", svm_c_001.score(X_train, y_train))\n",
    "print(\"Validation Accuracy:\", svm_c_001.score(X_val, y_val))\n",
    "\n",
    "# C = 10\n",
    "svm_c_10 = SVC(kernel='linear', C=10, random_state=42)\n",
    "svm_c_10.fit(X_train, y_train)\n",
    "print(\"C = 10\")\n",
    "print(\"Training Accuracy:\", svm_c_10.score(X_train, y_train))\n",
    "print(\"Validation Accuracy:\", svm_c_10.score(X_val, y_val))\n",
    "\n",
    "# C = 100\n",
    "svm_c_100 = SVC(kernel='linear', C=100, random_state=42)\n",
    "svm_c_100.fit(X_train, y_train)\n",
    "print(\"C = 100\")\n",
    "print(\"Training Accuracy:\", svm_c_100.score(X_train, y_train))\n",
    "print(\"Validation Accuracy:\", svm_c_100.score(X_val, y_val))"
   ]
  },
  {
   "cell_type": "markdown",
   "id": "45277344-bf25-4393-967a-b75b677781f5",
   "metadata": {},
   "source": [
    "##### For our specific use case, we want a model with high classification 'accuracy' to ensure precise failure predictions.\n",
    "\n",
    "##### Among the three linear SVMs above, svm_c_100 has the highest training and validation accuracies. Hence, we'll choose this model for further comparison below."
   ]
  },
  {
   "cell_type": "code",
   "execution_count": 9,
   "id": "9bdb68aa-ff25-4c3a-a8be-b7418a5e6240",
   "metadata": {},
   "outputs": [
    {
     "name": "stdout",
     "output_type": "stream",
     "text": [
      "CV Score of svm_c_10 [0.86626402 0.85849871 0.87996546 0.86528497 0.88341969]\n",
      "CV Score of svm_c_100 [0.88093184 0.87489215 0.88341969 0.87046632 0.88946459]\n"
     ]
    }
   ],
   "source": [
    "from sklearn.model_selection import cross_val_score\n",
    "cv_score_c_10 = cross_val_score(svm_c_10, X_val, y_val, cv=5, scoring='precision_micro')\n",
    "cv_score_c_100 = cross_val_score(svm_c_100, X_val, y_val, cv=5, scoring='precision_micro')\n",
    "print(f'CV Score of svm_c_10 {cv_score_c_10}')\n",
    "print(f'CV Score of svm_c_100 {cv_score_c_100}')"
   ]
  },
  {
   "cell_type": "markdown",
   "id": "1d8db069-95d3-443e-b4ae-277b854eb3a9",
   "metadata": {},
   "source": [
    "#### Training a Poly Kernel SVM"
   ]
  },
  {
   "cell_type": "code",
   "execution_count": 10,
   "id": "7c0c5da5-90b0-4118-9976-d6222381b54f",
   "metadata": {},
   "outputs": [
    {
     "name": "stdout",
     "output_type": "stream",
     "text": [
      "Degree = 3\n",
      "Training Accuracy: 0.9606933172163702\n",
      "Validation Accuracy: 0.9590814917127072\n",
      "Degree = 5, OVO\n",
      "Training Accuracy: 0.9452598860300466\n",
      "Validation Accuracy: 0.9449240331491713\n",
      "Degree = 5, OVR\n",
      "Training Accuracy: 0.9452598860300466\n",
      "Validation Accuracy: 0.9449240331491713\n",
      "Degree = 8\n",
      "Training Accuracy: 0.8936496287342428\n",
      "Validation Accuracy: 0.8908839779005525\n"
     ]
    }
   ],
   "source": [
    "# degree = 3\n",
    "svm_degree_3 = SVC(kernel='poly', degree=3, random_state=42)\n",
    "svm_degree_3.fit(X_train, y_train)\n",
    "print(\"Degree = 3\")\n",
    "print(\"Training Accuracy:\", svm_degree_3.score(X_train, y_train))\n",
    "print(\"Validation Accuracy:\", svm_degree_3.score(X_val, y_val))\n",
    "\n",
    "# degree = 5, OVO\n",
    "svm_degree_5_ovo = SVC(kernel='poly', degree=5, decision_function_shape='ovo', random_state=42)\n",
    "svm_degree_5_ovo.fit(X_train, y_train)\n",
    "print(\"Degree = 5, OVO\")\n",
    "print(\"Training Accuracy:\", svm_degree_5_ovo.score(X_train, y_train))\n",
    "print(\"Validation Accuracy:\", svm_degree_5_ovo.score(X_val, y_val))\n",
    "\n",
    "# degree = 5, OVR\n",
    "svm_degree_5_ovr = SVC(kernel='poly', degree=5, decision_function_shape='ovo', random_state=42)\n",
    "svm_degree_5_ovr.fit(X_train, y_train)\n",
    "print(\"Degree = 5, OVR\")\n",
    "print(\"Training Accuracy:\", svm_degree_5_ovr.score(X_train, y_train))\n",
    "print(\"Validation Accuracy:\", svm_degree_5_ovr.score(X_val, y_val))\n",
    "\n",
    "# degree = 8\n",
    "svm_degree_8 = SVC(kernel='poly', degree=8, random_state=42)\n",
    "svm_degree_8.fit(X_train, y_train)\n",
    "print(\"Degree = 8\")\n",
    "print(\"Training Accuracy:\", svm_degree_8.score(X_train, y_train))\n",
    "print(\"Validation Accuracy:\", svm_degree_8.score(X_val, y_val))"
   ]
  },
  {
   "cell_type": "markdown",
   "id": "b9d27b75-ed98-44ab-8777-34f14aa07fbc",
   "metadata": {},
   "source": [
    "##### Out of the 3 polynomial kernels above, svm_degree_5 has the best training and validation accuracies. We'll use this model in our comparison below."
   ]
  },
  {
   "cell_type": "markdown",
   "id": "8ef48232-29e3-4379-a0fa-89b8f0ed6778",
   "metadata": {},
   "source": [
    "#### Training an RBF Kernel SVM"
   ]
  },
  {
   "cell_type": "code",
   "execution_count": 11,
   "id": "688e4aa2-baae-4786-9f3e-77fe8b9f865c",
   "metadata": {},
   "outputs": [
    {
     "name": "stdout",
     "output_type": "stream",
     "text": [
      "Gamma = 0.1\n",
      "Training Accuracy: 0.9735149369711622\n",
      "Validation Accuracy: 0.9720303867403315\n",
      "Gamma = 1\n",
      "Training Accuracy: 0.9950569849766879\n",
      "Validation Accuracy: 0.9936118784530387\n",
      "Gamma = 10, OVO\n",
      "Training Accuracy: 0.9999784147815576\n",
      "Validation Accuracy: 0.9994820441988951\n",
      "Gamma = 10, OVR\n",
      "Training Accuracy: 0.9999784147815576\n",
      "Validation Accuracy: 0.9994820441988951\n",
      "Gamma = 100\n",
      "Training Accuracy: 1.0\n",
      "Validation Accuracy: 1.0\n"
     ]
    }
   ],
   "source": [
    "# gamma = 0.1\n",
    "svm_gamma_01 = SVC(kernel='rbf', gamma=0.1, random_state=42)\n",
    "svm_gamma_01.fit(X_train, y_train)\n",
    "print(\"Gamma = 0.1\")\n",
    "print(\"Training Accuracy:\", svm_gamma_01.score(X_train, y_train))\n",
    "print(\"Validation Accuracy:\", svm_gamma_01.score(X_val, y_val))\n",
    "\n",
    "# gamma = 1\n",
    "svm_gamma_1 = SVC(kernel='rbf', gamma=1, random_state=42)\n",
    "svm_gamma_1.fit(X_train, y_train)\n",
    "print(\"Gamma = 1\")\n",
    "print(\"Training Accuracy:\", svm_gamma_1.score(X_train, y_train))\n",
    "print(\"Validation Accuracy:\", svm_gamma_1.score(X_val, y_val))\n",
    "\n",
    "# gamma = 10, OVO\n",
    "svm_gamma_10_ovo = SVC(kernel='rbf', gamma=10, decision_function_shape='ovo', random_state=42)\n",
    "svm_gamma_10_ovo.fit(X_train, y_train)\n",
    "print(\"Gamma = 10, OVO\")\n",
    "print(\"Training Accuracy:\", svm_gamma_10_ovo.score(X_train, y_train))\n",
    "print(\"Validation Accuracy:\", svm_gamma_10_ovo.score(X_val, y_val))\n",
    "\n",
    "# gamma = 10, OVR\n",
    "svm_gamma_10_ovr = SVC(kernel='rbf', gamma=10, decision_function_shape='ovr', random_state=42)\n",
    "svm_gamma_10_ovr.fit(X_train, y_train)\n",
    "print(\"Gamma = 10, OVR\")\n",
    "print(\"Training Accuracy:\", svm_gamma_10_ovr.score(X_train, y_train))\n",
    "print(\"Validation Accuracy:\", svm_gamma_10_ovr.score(X_val, y_val))\n",
    "\n",
    "# gamma = 100\n",
    "svm_gamma_100 = SVC(kernel='rbf', gamma=100, random_state=42)\n",
    "svm_gamma_100.fit(X_train, y_train)\n",
    "print(\"Gamma = 100\")\n",
    "print(\"Training Accuracy:\", svm_gamma_100.score(X_train, y_train))\n",
    "print(\"Validation Accuracy:\", svm_gamma_100.score(X_val, y_val))"
   ]
  },
  {
   "cell_type": "markdown",
   "id": "c5f8f577-fc3c-4cfc-93d5-76e1a2f9d6c5",
   "metadata": {},
   "source": [
    "##### Out of the 4 RBF kernels above, svm_gamma_10 seems to be a good choice, having decent values for training and validation accuracies, which are not too high. We'll use this model in our comparison below."
   ]
  },
  {
   "cell_type": "markdown",
   "id": "8ebdaf5d-6a31-4b3f-aa85-e7bad9b9499a",
   "metadata": {},
   "source": [
    "## Using Grid-search\n",
    "\n",
    "One way to pick the best combination of hyperparameters is to run an exhaustive search and choose the one that performs best in our validation set.\n",
    "A Grid-search is used to find the optimal hyperparameters of a model which results in the most ‘accurate’ predictions.\n",
    "\n",
    "Let's try performing a grid-search using the following choices for our hyperparameters."
   ]
  },
  {
   "cell_type": "code",
   "execution_count": 12,
   "id": "1b85d323-dd36-489e-aa8b-dd0558973e25",
   "metadata": {},
   "outputs": [],
   "source": [
    "params = {'kernel': ['rbf', 'poly', 'linear'],\n",
    "          'gamma': [0.001, 1, 100],\n",
    "          'C': [ 0.1, 1 , 10],\n",
    "          'degree': [3, 5, 8],\n",
    "          'decision_function_shape': ['ovo', 'ovr']\n",
    "        }"
   ]
  },
  {
   "cell_type": "code",
   "execution_count": 13,
   "id": "eb529af2-4fe0-4a9d-9248-9fa361a4331d",
   "metadata": {},
   "outputs": [],
   "source": [
    "from sklearn.model_selection import GridSearchCV\n",
    "\n",
    "svm_gs = GridSearchCV(estimator = SVC(),\n",
    "                      param_grid = params)\n",
    "# svm_gs.fit(X_train, y_train)\n",
    "\n",
    "# svm_gscv = svm_gs.best_estimator_\n",
    "# svm_gscv\n",
    "\n",
    "# print(\"Training Accuracy:\", svm_gscv.score(X_train, y_train))\n",
    "# print(\"Validation Accuracy:\", svm_gscv.score(X_val, y_val))"
   ]
  },
  {
   "cell_type": "markdown",
   "id": "f9986553-8d97-4502-9cc9-b245d42e2d79",
   "metadata": {
    "tags": []
   },
   "source": [
    "## Compare metrics\n",
    "\n",
    "Using Scikit-learn's classification_report and confusion_matrix functions, let's select the best decision tree classifier for this dataset."
   ]
  },
  {
   "cell_type": "markdown",
   "id": "095d7403-e379-4271-9869-f1e45d85ee71",
   "metadata": {},
   "source": [
    "### Using classification reports"
   ]
  },
  {
   "cell_type": "code",
   "execution_count": 14,
   "id": "c3270789-1ea3-46fe-b60c-e69adc78eda9",
   "metadata": {},
   "outputs": [],
   "source": [
    "from sklearn.metrics import classification_report"
   ]
  },
  {
   "cell_type": "markdown",
   "id": "bf6d931d-b723-44d4-ba96-4fb4eecc41ad",
   "metadata": {},
   "source": [
    "#### Using the Linear SVM with C = 100\n",
    "\n",
    "The linear SVM with C = 100 performed pretty well on both training and validation sets. "
   ]
  },
  {
   "cell_type": "markdown",
   "id": "95ea9c09-5db1-4802-affa-25bcf54930d2",
   "metadata": {},
   "source": [
    "##### Training Dataset"
   ]
  },
  {
   "cell_type": "code",
   "execution_count": 15,
   "id": "bdb22436-98ab-42f8-aad6-4b563392983a",
   "metadata": {},
   "outputs": [
    {
     "name": "stdout",
     "output_type": "stream",
     "text": [
      "                          precision    recall  f1-score   support\n",
      "\n",
      "Heat Dissipation Failure       0.97      1.00      0.99      7783\n",
      "              No Failure       0.70      0.67      0.68      7702\n",
      "      Overstrain Failure       0.98      1.00      0.99      7682\n",
      "           Power Failure       0.99      0.99      0.99      7700\n",
      "         Random Failures       0.75      0.72      0.73      7706\n",
      "       Tool Wear Failure       0.93      0.96      0.94      7755\n",
      "\n",
      "                accuracy                           0.89     46328\n",
      "               macro avg       0.89      0.89      0.89     46328\n",
      "            weighted avg       0.89      0.89      0.89     46328\n",
      "\n"
     ]
    }
   ],
   "source": [
    "svm_c_100_pred = svm_c_100.predict(X_train)\n",
    "cr = classification_report(y_train, svm_c_100_pred, labels=svm_c_100.classes_)\n",
    "print(cr)"
   ]
  },
  {
   "cell_type": "markdown",
   "id": "e193765c-fee8-48e2-8185-74b803f6b6c5",
   "metadata": {},
   "source": [
    "##### Validation Dataset"
   ]
  },
  {
   "cell_type": "code",
   "execution_count": 16,
   "id": "b5dbe21b-0cd6-485a-8a88-2336ae962681",
   "metadata": {},
   "outputs": [
    {
     "name": "stdout",
     "output_type": "stream",
     "text": [
      "                          precision    recall  f1-score   support\n",
      "\n",
      "Heat Dissipation Failure       0.98      1.00      0.99       936\n",
      "              No Failure       0.70      0.68      0.69       978\n",
      "      Overstrain Failure       0.98      1.00      0.99       989\n",
      "           Power Failure       0.99      0.99      0.99       981\n",
      "         Random Failures       0.75      0.72      0.73       991\n",
      "       Tool Wear Failure       0.93      0.96      0.94       917\n",
      "\n",
      "                accuracy                           0.89      5792\n",
      "               macro avg       0.89      0.89      0.89      5792\n",
      "            weighted avg       0.89      0.89      0.89      5792\n",
      "\n"
     ]
    }
   ],
   "source": [
    "svm_c_100_pred = svm_c_100.predict(X_val)\n",
    "cr = classification_report(y_val, svm_c_100_pred, labels=svm_c_100.classes_)\n",
    "print(cr)"
   ]
  },
  {
   "cell_type": "markdown",
   "id": "86b8dc98-f3d8-4ede-9795-707501665992",
   "metadata": {},
   "source": [
    "#### Using Poly kernel SVM with degree = 5, OVO"
   ]
  },
  {
   "cell_type": "markdown",
   "id": "04977f35-82ee-4975-b9a6-00f68c37daf0",
   "metadata": {},
   "source": [
    "##### Training Dataset"
   ]
  },
  {
   "cell_type": "code",
   "execution_count": 17,
   "id": "81793081-cf1e-4b4f-a167-75a7d2e9bdbb",
   "metadata": {},
   "outputs": [
    {
     "name": "stdout",
     "output_type": "stream",
     "text": [
      "                          precision    recall  f1-score   support\n",
      "\n",
      "Heat Dissipation Failure       0.98      1.00      0.99      7783\n",
      "              No Failure       0.80      0.90      0.84      7702\n",
      "      Overstrain Failure       1.00      1.00      1.00      7682\n",
      "           Power Failure       1.00      1.00      1.00      7700\n",
      "         Random Failures       0.96      0.78      0.86      7706\n",
      "       Tool Wear Failure       0.96      1.00      0.98      7755\n",
      "\n",
      "                accuracy                           0.95     46328\n",
      "               macro avg       0.95      0.95      0.94     46328\n",
      "            weighted avg       0.95      0.95      0.94     46328\n",
      "\n"
     ]
    }
   ],
   "source": [
    "svm_degree_5_ovo_pred = svm_degree_5_ovo.predict(X_train)\n",
    "cr = classification_report(y_train, svm_degree_5_ovo_pred, labels=svm_degree_5_ovo.classes_)\n",
    "print(cr)"
   ]
  },
  {
   "cell_type": "markdown",
   "id": "357b6e73-fbdc-44f8-b923-3f659c7db8cf",
   "metadata": {},
   "source": [
    "##### Validation Dataset"
   ]
  },
  {
   "cell_type": "code",
   "execution_count": 18,
   "id": "cf027b7f-e24a-4377-a10c-1e2926f48c56",
   "metadata": {},
   "outputs": [
    {
     "name": "stdout",
     "output_type": "stream",
     "text": [
      "                          precision    recall  f1-score   support\n",
      "\n",
      "Heat Dissipation Failure       0.98      1.00      0.99       936\n",
      "              No Failure       0.80      0.89      0.85       978\n",
      "      Overstrain Failure       1.00      1.00      1.00       989\n",
      "           Power Failure       0.99      1.00      1.00       981\n",
      "         Random Failures       0.96      0.79      0.86       991\n",
      "       Tool Wear Failure       0.95      1.00      0.98       917\n",
      "\n",
      "                accuracy                           0.94      5792\n",
      "               macro avg       0.95      0.95      0.95      5792\n",
      "            weighted avg       0.95      0.94      0.94      5792\n",
      "\n"
     ]
    }
   ],
   "source": [
    "svm_degree_5_ovo_pred = svm_degree_5_ovo.predict(X_val)\n",
    "cr = classification_report(y_val, svm_degree_5_ovo_pred, labels=svm_degree_5_ovo.classes_)\n",
    "print(cr)"
   ]
  },
  {
   "cell_type": "markdown",
   "id": "32208af5-21d9-4478-9509-c7d64fdbf9df",
   "metadata": {},
   "source": [
    "#### Using Poly kernel SVM with degree = 5, OVR"
   ]
  },
  {
   "cell_type": "markdown",
   "id": "2f826ca5-c5fa-408e-bd33-0fa37e9ac1f0",
   "metadata": {},
   "source": [
    "##### Training Dataset"
   ]
  },
  {
   "cell_type": "code",
   "execution_count": 19,
   "id": "c281c388-8ce8-48c6-9009-4818ec870bd6",
   "metadata": {},
   "outputs": [
    {
     "name": "stdout",
     "output_type": "stream",
     "text": [
      "                          precision    recall  f1-score   support\n",
      "\n",
      "Heat Dissipation Failure       0.98      1.00      0.99      7783\n",
      "              No Failure       0.80      0.90      0.84      7702\n",
      "      Overstrain Failure       1.00      1.00      1.00      7682\n",
      "           Power Failure       1.00      1.00      1.00      7700\n",
      "         Random Failures       0.96      0.78      0.86      7706\n",
      "       Tool Wear Failure       0.96      1.00      0.98      7755\n",
      "\n",
      "                accuracy                           0.95     46328\n",
      "               macro avg       0.95      0.95      0.94     46328\n",
      "            weighted avg       0.95      0.95      0.94     46328\n",
      "\n"
     ]
    }
   ],
   "source": [
    "svm_degree_5_ovr_pred = svm_degree_5_ovr.predict(X_train)\n",
    "cr = classification_report(y_train, svm_degree_5_ovr_pred, labels=svm_degree_5_ovr.classes_)\n",
    "print(cr)"
   ]
  },
  {
   "cell_type": "markdown",
   "id": "f902c530-73cd-4a0e-8a92-b05f7d2d2172",
   "metadata": {},
   "source": [
    "##### Validation Dataset"
   ]
  },
  {
   "cell_type": "code",
   "execution_count": 20,
   "id": "6484c43a-33ec-40db-a9e4-07273c2e922b",
   "metadata": {},
   "outputs": [
    {
     "name": "stdout",
     "output_type": "stream",
     "text": [
      "                          precision    recall  f1-score   support\n",
      "\n",
      "Heat Dissipation Failure       0.98      1.00      0.99       936\n",
      "              No Failure       0.80      0.89      0.85       978\n",
      "      Overstrain Failure       1.00      1.00      1.00       989\n",
      "           Power Failure       0.99      1.00      1.00       981\n",
      "         Random Failures       0.96      0.79      0.86       991\n",
      "       Tool Wear Failure       0.95      1.00      0.98       917\n",
      "\n",
      "                accuracy                           0.94      5792\n",
      "               macro avg       0.95      0.95      0.95      5792\n",
      "            weighted avg       0.95      0.94      0.94      5792\n",
      "\n"
     ]
    }
   ],
   "source": [
    "svm_degree_5_ovr_pred = svm_degree_5_ovr.predict(X_val)\n",
    "cr = classification_report(y_val, svm_degree_5_ovr_pred, labels=svm_degree_5_ovr.classes_)\n",
    "print(cr)"
   ]
  },
  {
   "cell_type": "markdown",
   "id": "5ebb3cc5-4b4f-4e33-b990-6263237aae24",
   "metadata": {},
   "source": [
    "#### Using RBF kernel SVM with Gamma = 10, OVO"
   ]
  },
  {
   "cell_type": "markdown",
   "id": "61c0e920-684d-498e-b978-7c5290da0d02",
   "metadata": {},
   "source": [
    "##### Training Dataset"
   ]
  },
  {
   "cell_type": "code",
   "execution_count": 21,
   "id": "b7a1e355-70c0-4e2f-a285-c9e723e4e11f",
   "metadata": {},
   "outputs": [
    {
     "name": "stdout",
     "output_type": "stream",
     "text": [
      "                          precision    recall  f1-score   support\n",
      "\n",
      "Heat Dissipation Failure       1.00      1.00      1.00      7783\n",
      "              No Failure       1.00      1.00      1.00      7702\n",
      "      Overstrain Failure       1.00      1.00      1.00      7682\n",
      "           Power Failure       1.00      1.00      1.00      7700\n",
      "         Random Failures       1.00      1.00      1.00      7706\n",
      "       Tool Wear Failure       1.00      1.00      1.00      7755\n",
      "\n",
      "                accuracy                           1.00     46328\n",
      "               macro avg       1.00      1.00      1.00     46328\n",
      "            weighted avg       1.00      1.00      1.00     46328\n",
      "\n"
     ]
    }
   ],
   "source": [
    "svm_gamma_10_ovo_pred = svm_gamma_10_ovo.predict(X_train)\n",
    "cr = classification_report(y_train, svm_gamma_10_ovo_pred, labels=svm_gamma_10_ovo.classes_)\n",
    "print(cr)"
   ]
  },
  {
   "cell_type": "markdown",
   "id": "5c0c9aef-9337-4cb8-9974-05646e486efb",
   "metadata": {},
   "source": [
    "##### Validation Dataset"
   ]
  },
  {
   "cell_type": "code",
   "execution_count": 22,
   "id": "808c98fd-8c6c-4929-89d6-617457851990",
   "metadata": {},
   "outputs": [
    {
     "name": "stdout",
     "output_type": "stream",
     "text": [
      "                          precision    recall  f1-score   support\n",
      "\n",
      "Heat Dissipation Failure       1.00      1.00      1.00       936\n",
      "              No Failure       1.00      1.00      1.00       978\n",
      "      Overstrain Failure       1.00      1.00      1.00       989\n",
      "           Power Failure       1.00      1.00      1.00       981\n",
      "         Random Failures       1.00      1.00      1.00       991\n",
      "       Tool Wear Failure       1.00      1.00      1.00       917\n",
      "\n",
      "                accuracy                           1.00      5792\n",
      "               macro avg       1.00      1.00      1.00      5792\n",
      "            weighted avg       1.00      1.00      1.00      5792\n",
      "\n"
     ]
    }
   ],
   "source": [
    "svm_gamma_10_ovo_pred = svm_gamma_10_ovo.predict(X_val)\n",
    "cr = classification_report(y_val, svm_gamma_10_ovo_pred, labels=svm_gamma_10_ovo.classes_)\n",
    "print(cr)"
   ]
  },
  {
   "cell_type": "markdown",
   "id": "abc3f5a6-17cd-4edd-a2b1-26b2af7257a2",
   "metadata": {},
   "source": [
    "#### Using RBF kernel SVM with Gamma = 10, OVR"
   ]
  },
  {
   "cell_type": "markdown",
   "id": "f98a64e7-821d-48d1-a2ac-b6d5551fc23d",
   "metadata": {},
   "source": [
    "##### Training Dataset"
   ]
  },
  {
   "cell_type": "code",
   "execution_count": 23,
   "id": "73553ec3-b23a-476a-a306-ea010d96cc82",
   "metadata": {},
   "outputs": [
    {
     "name": "stdout",
     "output_type": "stream",
     "text": [
      "                          precision    recall  f1-score   support\n",
      "\n",
      "Heat Dissipation Failure       1.00      1.00      1.00      7783\n",
      "              No Failure       1.00      1.00      1.00      7702\n",
      "      Overstrain Failure       1.00      1.00      1.00      7682\n",
      "           Power Failure       1.00      1.00      1.00      7700\n",
      "         Random Failures       1.00      1.00      1.00      7706\n",
      "       Tool Wear Failure       1.00      1.00      1.00      7755\n",
      "\n",
      "                accuracy                           1.00     46328\n",
      "               macro avg       1.00      1.00      1.00     46328\n",
      "            weighted avg       1.00      1.00      1.00     46328\n",
      "\n"
     ]
    }
   ],
   "source": [
    "svm_gamma_10_ovr_pred = svm_gamma_10_ovr.predict(X_train)\n",
    "cr = classification_report(y_train, svm_gamma_10_ovr_pred, labels=svm_gamma_10_ovr.classes_)\n",
    "print(cr)"
   ]
  },
  {
   "cell_type": "markdown",
   "id": "7c2fccf0-19db-4ed0-8386-1408fda35ac9",
   "metadata": {},
   "source": [
    "##### Validation Dataset"
   ]
  },
  {
   "cell_type": "code",
   "execution_count": 24,
   "id": "00b4c1c0-afe5-4795-9a62-21afa068653f",
   "metadata": {},
   "outputs": [
    {
     "name": "stdout",
     "output_type": "stream",
     "text": [
      "                          precision    recall  f1-score   support\n",
      "\n",
      "Heat Dissipation Failure       1.00      1.00      1.00       936\n",
      "              No Failure       1.00      1.00      1.00       978\n",
      "      Overstrain Failure       1.00      1.00      1.00       989\n",
      "           Power Failure       1.00      1.00      1.00       981\n",
      "         Random Failures       1.00      1.00      1.00       991\n",
      "       Tool Wear Failure       1.00      1.00      1.00       917\n",
      "\n",
      "                accuracy                           1.00      5792\n",
      "               macro avg       1.00      1.00      1.00      5792\n",
      "            weighted avg       1.00      1.00      1.00      5792\n",
      "\n"
     ]
    }
   ],
   "source": [
    "svm_gamma_10_ovr_pred = svm_gamma_10_ovr.predict(X_val)\n",
    "cr = classification_report(y_val, svm_gamma_10_ovr_pred, labels=svm_gamma_10_ovr.classes_)\n",
    "print(cr)"
   ]
  },
  {
   "cell_type": "markdown",
   "id": "4a0964f2-b126-4980-8d75-8e200646b83e",
   "metadata": {},
   "source": [
    "### Using confusion matrices"
   ]
  },
  {
   "cell_type": "code",
   "execution_count": 25,
   "id": "29822382-f0fb-47c1-a501-50ec798d84af",
   "metadata": {},
   "outputs": [],
   "source": [
    "from sklearn.metrics import ConfusionMatrixDisplay"
   ]
  },
  {
   "cell_type": "code",
   "execution_count": 26,
   "id": "bc501855-97ce-490c-97cc-e2e966c88dfe",
   "metadata": {},
   "outputs": [],
   "source": [
    "svm_c_100_pred_train = svm_c_100.predict(X_train)\n",
    "svm_c_100_pred_val = svm_c_100.predict(X_val)\n",
    "\n",
    "svm_degree_5_ovo_pred_train = svm_degree_5_ovo.predict(X_train)\n",
    "svm_degree_5_ovo_pred_val = svm_degree_5_ovo.predict(X_val)\n",
    "\n",
    "svm_gamma_10_ovr_pred_train = svm_gamma_10_ovr.predict(X_train)\n",
    "svm_gamma_10_ovr_pred_val = svm_gamma_10_ovr.predict(X_val)"
   ]
  },
  {
   "cell_type": "code",
   "execution_count": 27,
   "id": "08e5359a-e62c-4a55-8d49-3be2c7d37b04",
   "metadata": {},
   "outputs": [
    {
     "data": {
      "text/plain": [
       "Text(0.5, 1.0, 'SVM RBF Gamma = 10, OVR (Val)')"
      ]
     },
     "execution_count": 27,
     "metadata": {},
     "output_type": "execute_result"
    },
    {
     "data": {
      "image/png": "[encoded data removed]",
      "text/plain": [
       "<Figure size 2000x1500 with 12 Axes>"
      ]
     },
     "metadata": {},
     "output_type": "display_data"
    }
   ],
   "source": [
    "fig, ax = plt.subplots(2,3,figsize=(20,15),sharey='row')\n",
    "\n",
    "# Using Linear SVM with C=100\n",
    "ConfusionMatrixDisplay.from_predictions(y_train,\n",
    "                                        svm_c_100_pred_train,\n",
    "                                        labels=list(svm_c_100.classes_),\n",
    "                                        xticks_rotation='vertical',\n",
    "                                        ax=ax[0,0])\n",
    "\n",
    "ConfusionMatrixDisplay.from_predictions(y_val,\n",
    "                                        svm_c_100_pred_val,\n",
    "                                        labels=list(svm_c_100.classes_),\n",
    "                                        xticks_rotation='vertical',\n",
    "                                        ax=ax[1,0])\n",
    "\n",
    "# Using Poly kernel SVM with degree = 5, OVO\n",
    "ConfusionMatrixDisplay.from_predictions(y_train,\n",
    "                                        svm_degree_5_ovo_pred_train,\n",
    "                                        labels=list(svm_degree_5_ovo.classes_),\n",
    "                                        xticks_rotation='vertical',\n",
    "                                        ax=ax[0,1])\n",
    "ConfusionMatrixDisplay.from_predictions(y_val,\n",
    "                                        svm_degree_5_ovo_pred_val,\n",
    "                                        labels=list(svm_degree_5_ovo.classes_),\n",
    "                                        xticks_rotation='vertical',\n",
    "                                        ax=ax[1,1])\n",
    "\n",
    "# Using RBF kernel SVM with Gamma = 10, OVR\n",
    "ConfusionMatrixDisplay.from_predictions(y_train,\n",
    "                                        svm_gamma_10_ovr_pred_train,\n",
    "                                        labels=list(svm_gamma_10_ovr.classes_),\n",
    "                                        xticks_rotation='vertical',\n",
    "                                        ax=ax[0,2])\n",
    "ConfusionMatrixDisplay.from_predictions(y_val,\n",
    "                                        svm_gamma_10_ovr_pred_val,\n",
    "                                        labels=list(svm_gamma_10_ovr.classes_),\n",
    "                                        xticks_rotation='vertical',\n",
    "                                        ax=ax[1,2])\n",
    "\n",
    "ax[0,0].set_title('SVM Linear C = 100 (Train)')\n",
    "ax[1,0].set_title('SVM Linear C = 100 (Val)')\n",
    "ax[0,1].set_title('SVM Poly degree = 5, OVO (Train)')\n",
    "ax[1,1].set_title('SVM Poly degree = 5, OVO (Val)')\n",
    "ax[0,2].set_title('SVM RBF Gamma = 10, OVR (Train)')\n",
    "ax[1,2].set_title('SVM RBF Gamma = 10, OVR (Val)')"
   ]
  },
  {
   "cell_type": "markdown",
   "id": "adfebae1-2b26-4ad0-af85-c51f86900e44",
   "metadata": {},
   "source": [
    "## Observations and Model Selection"
   ]
  },
  {
   "cell_type": "markdown",
   "id": "51012ae3-d386-4ff0-9eb8-d806368876fe",
   "metadata": {},
   "source": [
    "Since we want to minimize the false positives of the 'No Failure' class, we are looking for a model with high precision. Among the three models compared, the Linear SVM has the lowest precision for the class, making it the worst choice.\n",
    "\n",
    "The Poly kernel SVM and the RBF kernel SVM have training accuracies of 94.49% and 99.95% respectively. However, again, accuracy alone isn't a reliable indicator of model performance for our use case. We need a model with higher precision for the 'No Failure' class.\n",
    "\n",
    "The classification report above shows that the RBF kernel SVM has 100% for all of the metrics. This is also illustrated by the confusion matrix above (lower right). While this seems like a good model, it might be overfit for the training data.\n",
    "\n",
    "The Poly kernel SVM, on the other hand, has a high average precision of 95%, based on the classification report. Although it only has 80% precision for the 'No Failure' class, based on its confusion matrix, it misclassified only 213 points as 'No Failure', which is only 3.68% of the dataset. Moreover, These misclassified points are Random Failures which are by-chance failures and aren't really related to product parameters.\n",
    "\n",
    "Considering these observations, we conclude that the Poly kernel SVM (with degree = 5) is the most suitable SVM classifier for our dataset and use case."
   ]
  },
  {
   "cell_type": "code",
   "execution_count": null,
   "id": "c925118c-9de0-4871-9d9f-fa67c3fedd76",
   "metadata": {},
   "outputs": [],
   "source": []
  }
 ],
 "metadata": {
  "kernelspec": {
   "display_name": "Python 3",
   "language": "python",
   "name": "python3"
  },
  "language_info": {
   "codemirror_mode": {
    "name": "ipython",
    "version": 3
   },
   "file_extension": ".py",
   "mimetype": "text/x-python",
   "name": "python",
   "nbconvert_exporter": "python",
   "pygments_lexer": "ipython3",
   "version": "3.8.15"
  }
 },
 "nbformat": 4,
 "nbformat_minor": 5
}
